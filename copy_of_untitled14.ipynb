{
  "nbformat": 4,
  "nbformat_minor": 0,
  "metadata": {
    "colab": {
      "provenance": [],
      "authorship_tag": "ABX9TyNo9hucemukB0K0QwuBNxU5",
      "include_colab_link": true
    },
    "kernelspec": {
      "name": "python3",
      "display_name": "Python 3"
    },
    "language_info": {
      "name": "python"
    }
  },
  "cells": [
    {
      "cell_type": "markdown",
      "metadata": {
        "id": "view-in-github",
        "colab_type": "text"
      },
      "source": [
        "<a href=\"https://colab.research.google.com/github/Eman-diab-hussein/titanic/blob/main/copy_of_untitled14.ipynb\" target=\"_parent\"><img src=\"https://colab.research.google.com/assets/colab-badge.svg\" alt=\"Open In Colab\"/></a>"
      ]
    },
    {
      "cell_type": "code",
      "execution_count": null,
      "metadata": {
        "id": "tNhvySSImITc"
      },
      "outputs": [],
      "source": [
        "import pandas as pd\n",
        "df= pd.read_csv('/content/titanic.csv')\n"
      ]
    },
    {
      "cell_type": "code",
      "source": [
        "# Print Average Age in each' class\n",
        "print('Average Age in class1',df[df['Pclass']==1]['Age'].mean())\n",
        "print('Average Age in class2',df[df['Pclass']==2]['Age'].mean())\n",
        "print('Average Age in class3',df[df['Pclass']==3]['Age'].mean())"
      ],
      "metadata": {
        "colab": {
          "base_uri": "https://localhost:8080/"
        },
        "id": "je-AnyxMnaWV",
        "outputId": "2d2f544e-4d8e-4490-e3e0-24f00eb4dcb4"
      },
      "execution_count": null,
      "outputs": [
        {
          "output_type": "stream",
          "name": "stdout",
          "text": [
            "Average Age in class1 38.233440860215055\n",
            "Average Age in class2 29.87763005780347\n",
            "Average Age in class3 25.14061971830986\n"
          ]
        }
      ]
    },
    {
      "cell_type": "code",
      "source": [
        "# Print Average Age of Survivals in each class\n",
        "print('avg age of survivals in class 1',df[(df['Survived']==1)&(df['Pclass']==1)]['Age'].mean())\n",
        "print('avg age of survivals in class 2',df[(df['Survived']==1)&(df['Pclass']==2)]['Age'].mean())\n",
        "print('avg age of survivals in class 3',df[(df['Survived']==1)&(df['Pclass']==3)]['Age'].mean())"
      ],
      "metadata": {
        "colab": {
          "base_uri": "https://localhost:8080/"
        },
        "id": "9Vpia5L8nGzc",
        "outputId": "dcfbb69d-07e6-489a-c729-42f51f964871"
      },
      "execution_count": null,
      "outputs": [
        {
          "output_type": "stream",
          "name": "stdout",
          "text": [
            "avg age of survivals in class 1 35.36819672131148\n",
            "avg age of survivals in class 2 25.90156626506024\n",
            "avg age of survivals in class 3 20.646117647058823\n"
          ]
        }
      ]
    },
    {
      "cell_type": "code",
      "source": [
        "# Print Number of Female in each class\n",
        "print('numberOfFemaleInClass1',df[(df['Sex']=='female')& (df['Pclass']==1)].shape[0])\n",
        "print('numberOfFemaleInClass2',df[(df['Sex']=='female')& (df['Pclass']==2)].shape[0])\n",
        "print('numberOfFemaleInClass3',df[(df['Sex']=='female')& (df['Pclass']==3)].shape[0])"
      ],
      "metadata": {
        "colab": {
          "base_uri": "https://localhost:8080/"
        },
        "id": "82RUDae1nfx8",
        "outputId": "c8d06675-4c25-49c8-db41-f20ebd840cd5"
      },
      "execution_count": null,
      "outputs": [
        {
          "output_type": "stream",
          "name": "stdout",
          "text": [
            "numberOfFemaleInClass1 94\n",
            "numberOfFemaleInClass2 76\n",
            "numberOfFemaleInClass3 144\n"
          ]
        }
      ]
    },
    {
      "cell_type": "code",
      "source": [
        "# Draw any chart\n",
        "import matplotlib.pyplot as plt\n",
        "import numpy as np\n",
        "y = np.array([94, 76, 144])\n",
        "x=np.array(['numberOfFemale1','numberOfFemale2','numberOfFemale3'])\n",
        "plt.bar(x,y)\n",
        "plt.show()"
      ],
      "metadata": {
        "colab": {
          "base_uri": "https://localhost:8080/",
          "height": 430
        },
        "id": "UPre4BSlxo8R",
        "outputId": "53dd11c3-0092-4780-b725-99fedde2a172"
      },
      "execution_count": null,
      "outputs": [
        {
          "output_type": "display_data",
          "data": {
            "text/plain": [
              "<Figure size 640x480 with 1 Axes>"
            ],
            "image/png": "[encoded data removed]"
          },
          "metadata": {}
        }
      ]
    }
  ]
}